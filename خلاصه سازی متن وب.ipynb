{
 "cells": [
  {
   "cell_type": "code",
   "execution_count": 72,
   "metadata": {},
   "outputs": [
    {
     "name": "stdout",
     "output_type": "stream",
     "text": [
      " axa s.a. (styled as axa) is a french multinational insurance firm. the head office is in the 8th arrondissement of paris. it also provides investment management and other financial services. the axa group operates primarily in western europe, north america, the india pacific region, and the middle east, with a presence also in africa. axa is a conglomerate of independently-run businesses, operated according to the laws and regulations of many different countries. it is a component of the euro stoxx 50 stock market index. the company was founded in 1816 as mutuelle de l'assurance contre l'incendie (the ancienne mutuelle). it acquired compagnie parisienne de garantie in 1978 and became mutuelles unies. in 1982, it merged with the drouot group, owned by the hottinguer family, becoming mutuelles unies/drouot. the firm adopted the axa name in 1985. axa took over the equitable in 1991 and bought union des assurances de paris (uap), france's largest insurer, in 1996 to become axa-uap. it reverted to the name axa in 1999. in february 1999, axa acquired guardian royal exchange. in may 2000, it acquired all shares it did not already own in sun life & provincial holdings. on june 14, 2006, axa acquired winterthur group from credit suisse for approximately €9 billion. as of 2011, axa was the second most powerful transnational corporation in terms of corporate control over global financial stability. in may 2016, the firm announced that it would stop investing in tobacco shares and bonds and allow its portfolio of tobacco-related bonds to run off. on 12 september 2018 axa acquired xl group ltd, a bermuda-based property and casualty commercial lines insurer and reinsurer, for $15.3 billion. in october 2019, the company sold axa bank belgium to crelan for €620 million (us$688.51 million). despite being written by the company in upper case, \"axa\" is not an acronym, but was chosen because its name can be pronounced easily by people who speak any language. after acquiring the drouot group in 1982, chairman and ceo claude bébéar hired an outside consultant to conduct a computer-aided search for a new name. bébéar wanted a short and snappy name to convey vitality and could be pronounced the same way in every language, consistent with the group's desire for an international presence. initially, \"elan\" was the top choice, but canadian executives balked because \"elan\" is the french word for a moose or elk. in 1985, bébéar chose the name axa. axa trades in the united kingdom as axa uk, with subsidiaries including axa insurance, axa wealth and axa health. axa ppp healthcare was created when axa bought guardian royal exchange (gre), though it subsequently sold the other parts of gre to aegon. the company also owns the online insurer swiftcover and fund manager architas. in january 2007 axa was reorganised into \"strategic business units\" aimed at competing within their specific markets. in september 2013, axa wealth was fined £1.8 million by the fca for failing to ensure it gave suitable investment advice to its customers. the regulator says it found \"serious defects\" in the way axa advisers in clydesdale bank, yorkshire bank and the west bromwich building society advised customers on investments. in 2018, they became the 'official global insurance' partner of premier league team liverpool f.c. and in 2019, began sponsoring the training kits of the team. in 2020, the partnership was cemented further in 2020, when they purchased the naming rights to the club's newly-built training centre, which became officially known as 'the axa training centre.' axa sun life was created following the merger between axa equity & law and sun life assurance society. in 2006 winterthur life in the uk was absorbed although axa continues to use the winterthur brand for high-net-worth wealth management business. the business units are: axa sold axa sun life holdings to resolution limited in autumn 2010, whilst retaining axa wealth (including architas and the elevate wrap platform), sunlife and bancassurance business units. closure of the bancassurance arm was announced in april 2013. in 2016, axa wealth was sold to the phoenix group. axa health sells private medical insurance in the uk. it was previously the london association for hospital services, set up in 1938 as a private healthcare scheme for people of middle income in london. it was incorporated in 1940 with assistance from the british medical association, the king's fund, and the medical royal colleges. guardian royal exchange assurance bought it in 1998 for £435 million; a year later it was bought by sun life & provincial holdings, an axa subsidiary. in 2018, it launched a virtual doctor service, called global care on demand, for its customers with outpatient cover. provided by advance medical it offers access to medical advice by phone or video by doctors located in eight main hubs around the world who speak more than 20 languages, and is targeted at expatriates. axa established a presence in ireland in 1999 when it bought british-based guardian royal exchange, which had previously acquired pmpa. pmpa, private motorists protection association, was at the time one of ireland's biggest insurance companies. it is the third-largest general insurer in the republic of ireland. axa canada marketed insurance in quebec, ontario, western canada and atlantic canada. in 2009 it had a total of approximately 2300 employees and 4000 brokers and advisors. the head office was in montreal, quebec. in 2011 it was sold to intact financial corp. for c$2.6 billion. the american arm of axa is axa financial, inc., which is known mainly through its subsidiaries such as axa advisors, axa network, mony (formerly mutual of new york), us financial life, and alliancebernstein. the equitable was acquired in 1991; mony was acquired in 2004. on 15 december 2006 axa advisors entered into agreements with lpl (linsco private ledger), the country's largest independent broker-dealer. lpl agreed to provide brokerage, clearing and custody services on a fully disclosed basis. the terms of the agreements are five years, subject to additional 24-month extensions. services began in august 2007. axa's us operations are incorporated in delaware. axa is present in gulf cooperation council (gcc) countries as axa insurance (gulf) b.s.c. present in the region for more than 60 years, axa is the largest insurer in the gcc with branches across bahrain, oman, uae and turkey. in saudi arabia, axa is known as axa cooperative insurance. it offers insurance for individuals and businesses with health, motor, home, travel, personal and group accident, fire, engineering, life and various other products. axa is present in lebanon as axa middle east. in 2000, axa group acquired 51% of slf's capital and the nasnas & hanemoglou's group the remaining 49% to start the operations in the middle east. axa has also started operations in egypt in the year 2015. in july 2008, axa acquired ing insurance mexico, offering essentially the same services that ing offered. axa then sued an ing group subsidiary over alleged misrepresentations in the $1.5 billion sale stating it suffered \"tens (if not hundreds) of millions of dollars in damages.\" in 1995 the axa group purchased a 51 per cent controlling interest in the australian life insurer, national mutual life association of australia for nf4 billion, that was claimed at the time to contribute about 15 percent of the axa group's worldwide insurance-premium income. in 2011, [amp limited] and axa sa agreed to acquire axa asia pacific, merging australian operations under the amp brand. in april 2016 axa unveiled a partnership with lloyd's of london insurer chaucer holdings to enter the growing market of speciality insurance in africa. axa africa specialty risks helps to mitigate risks through its coverholder, chaucer syndicate 1084 and axa africa specialty risks 6130. axa asr focuses on specialty and corporate lines, with coverage and an on-the-ground presence across africa. axa and lloyd's both have excellent international financial strength ratings (aa- by fitch and a+ by standard & poor's). the lines of business include: political risk, political violence and terrorism, energy, construction, property, liability, marine and aviation. since 2014 axa has made several acquisitions of other insurers in an attempt to expand. axa already operates in cameroon, egypt, gabon, ivory coast, morocco, nigeria, senegal and algeria. in january 2016, axa created kamet ventures, an insurtech incubator, to build disruptive businesses in insurance, healthcare and assistance space with an initial funding of €100 million. some of kamet's investments include insurance advice platform, anorak technologies and elderly care platform, birdie axa investment managers (axa im), is a global investment management firm with offices in over 22 locations worldwide. as of 31 december 2020, it manages over €858 billion in assets on behalf of institutional and retail clients. it operates as the investment arm for axa. axa asia pacific holdings limited acquired mlc (hong kong) limited and re-branded it as axa (hong kong) life insurance company limited in 2006. capital ownership as of 31 december 2010 axa headquarters is located in the 8th arrondissement of paris. axa, which already owned 23 avenue matignon, acquired the former hotel de la vaupalière, an 18th-century building, in the late 1990s. architect ricardo bofill integrated the facade of the hotel with a modern glass building that covers the courtyard that the hotel also occupies. the complex serves as axa's head office. besides its artistic and social philanthropic initiatives (axa heart in action), axa created the axa research fund in 2008. endowed with €100 million, it provides support for research focused on understanding and preventing the risks threatening the environment, human life and society. 256 basic-research projects were funded within three years, including 230 young researchers, phds or in postdoctoral year, working in laboratories all around the world. axa also gathers every year the young fellows to meet a world-class researcher, exchange best practices and network. the fund has also awarded eleven endowments for several million euros supporting research institutions of excellence (hec paris, national university of singapore, university of bristol, london school of economics, met office, inserm, ihes). these research and education chairs intend to attract the best scientists. for example, the axa polytechnique chair in cellular cardiovascular engineering, held by abdul barakat, aims to promote research on cardiovascular diseases, but also to train and develop young researchers through extended educational programs. after joining the access to medicine foundation, axa allocates a donation of 500,000 euros to the foundation's activities relating to the prevention of infectious diseases and the response to pandemics such as covid-19. \n"
     ]
    }
   ],
   "source": [
    "import urllib.request\n",
    "import re\n",
    "import bs4 as bs\n",
    "data = urllib.request.urlopen(\"https://en.wikipedia.org/wiki/Axa\")\n",
    "read_data = data.read()\n",
    "datas = bs.BeautifulSoup( read_data ,\"lxml\")\n",
    "tags = datas.find_all(\"p\")\n",
    "tex=''\n",
    "for i in tags:\n",
    "    tex += i.text\n",
    "#text = re.sub(r\"[^A-Za-z0-9.]+\",' ',tex).lower()\n",
    "\n",
    "text = re.sub(r\"\\[[0-9]*\\]\",' ',tex).lower()\n",
    "text = re.sub(r\"\\s+\",' ',text)\n",
    "\n",
    "text = re.sub(r\"^a-zA-Z\",' ',text)\n",
    "text = re.sub(r\"\\s+\",' ',text)\n",
    "\n",
    "print(text)"
   ]
  },
  {
   "cell_type": "code",
   "execution_count": 73,
   "metadata": {},
   "outputs": [],
   "source": [
    "import nltk\n",
    "sentens_list = nltk.sent_tokenize(text)\n",
    "\n",
    "stopword = nltk.corpus.stopwords.words(\"english\")\n",
    "word = {}\n",
    "for w in nltk.word_tokenize(text):\n",
    "    if w not in stopword:\n",
    "        if w not in word.keys():\n",
    "            word[w] = 1\n",
    "        else:\n",
    "            word[w] += 1\n",
    "    "
   ]
  },
  {
   "cell_type": "code",
   "execution_count": 74,
   "metadata": {},
   "outputs": [],
   "source": [
    "maxim = max(word.values())\n",
    "for w in word.keys():\n",
    "    word[w] = (word[w]/maxim)"
   ]
  },
  {
   "cell_type": "code",
   "execution_count": 75,
   "metadata": {},
   "outputs": [],
   "source": [
    "sents = {}\n",
    "for s in sentens_list:\n",
    "    for w in nltk.word_tokenize(s.lower()):\n",
    "        if w in word.keys():\n",
    "            if len(s.split(\" \")) < 30:\n",
    "                if s not in sents.keys():\n",
    "                    sents[s] = word[w]\n",
    "                else:\n",
    "                    sents[s] += word[w]"
   ]
  },
  {
   "cell_type": "code",
   "execution_count": 76,
   "metadata": {},
   "outputs": [
    {
     "name": "stdout",
     "output_type": "stream",
     "text": [
      "it offers insurance for individuals and businesses with health, motor, home, travel, personal and group accident, fire, engineering, life and various other products. axa already operates in cameroon, egypt, gabon, ivory coast, morocco, nigeria, senegal and algeria. the lines of business include: political risk, political violence and terrorism, energy, construction, property, liability, marine and aviation. axa trades in the united kingdom as axa uk, with subsidiaries including axa insurance, axa wealth and axa health. the axa group operates primarily in western europe, north america, the india pacific region, and the middle east, with a presence also in africa. in january 2016, axa created kamet ventures, an insurtech incubator, to build disruptive businesses in insurance, healthcare and assistance space with an initial funding of €100 million. axa, which already owned 23 avenue matignon, acquired the former hotel de la vaupalière, an 18th-century building, in the late 1990s. present in the region for more than 60 years, axa is the largest insurer in the gcc with branches across bahrain, oman, uae and turkey. axa has also started operations in egypt in the year 2015. in july 2008, axa acquired ing insurance mexico, offering essentially the same services that ing offered. in 2011, [amp limited] and axa sa agreed to acquire axa asia pacific, merging australian operations under the amp brand. 256 basic-research projects were funded within three years, including 230 young researchers, phds or in postdoctoral year, working in laboratories all around the world. in 1982, it merged with the drouot group, owned by the hottinguer family, becoming mutuelles unies/drouot. in 2018, it launched a virtual doctor service, called global care on demand, for its customers with outpatient cover.\n"
     ]
    }
   ],
   "source": [
    "import heapq\n",
    "summary = heapq.nlargest(13, sents , key = sents.get)\n",
    "summary = \" \".join(summary)\n",
    "print(summary)"
   ]
  },
  {
   "cell_type": "code",
   "execution_count": null,
   "metadata": {},
   "outputs": [],
   "source": []
  },
  {
   "cell_type": "code",
   "execution_count": null,
   "metadata": {},
   "outputs": [],
   "source": []
  }
 ],
 "metadata": {
  "kernelspec": {
   "display_name": "Python 3",
   "language": "python",
   "name": "python3"
  },
  "language_info": {
   "codemirror_mode": {
    "name": "ipython",
    "version": 3
   },
   "file_extension": ".py",
   "mimetype": "text/x-python",
   "name": "python",
   "nbconvert_exporter": "python",
   "pygments_lexer": "ipython3",
   "version": "3.8.5"
  }
 },
 "nbformat": 4,
 "nbformat_minor": 4
}
